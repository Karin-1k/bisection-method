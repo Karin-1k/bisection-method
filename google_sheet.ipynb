{
  "nbformat": 4,
  "nbformat_minor": 0,
  "metadata": {
    "colab": {
      "provenance": [],
      "authorship_tag": "ABX9TyO6gR8G/FAeSSqvzhtvED3e",
      "include_colab_link": true
    },
    "kernelspec": {
      "name": "python3",
      "display_name": "Python 3"
    },
    "language_info": {
      "name": "python"
    }
  },
  "cells": [
    {
      "cell_type": "markdown",
      "metadata": {
        "id": "view-in-github",
        "colab_type": "text"
      },
      "source": [
        "<a href=\"https://colab.research.google.com/github/Karin-1k/bisection-method/blob/main/google_sheet.ipynb\" target=\"_parent\"><img src=\"https://colab.research.google.com/assets/colab-badge.svg\" alt=\"Open In Colab\"/></a>"
      ]
    },
    {
      "cell_type": "code",
      "execution_count": null,
      "metadata": {
        "id": "eBzEbbf7zp2o"
      },
      "outputs": [],
      "source": []
    },
    {
      "cell_type": "markdown",
      "source": [
        "https://docs.google.com/spreadsheets/d/19fyyjx32ytitQLRkicxF_2dmIOQg3g9DZ1V2NdS3mGY/edit?usp=sharing"
      ],
      "metadata": {
        "id": "yZo7oVHjzqlf"
      }
    },
    {
      "cell_type": "markdown",
      "source": [
        "that is the like of google sheet "
      ],
      "metadata": {
        "id": "JGY3ja080AB7"
      }
    }
  ]
}