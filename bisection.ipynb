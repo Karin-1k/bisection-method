{
  "nbformat": 4,
  "nbformat_minor": 0,
  "metadata": {
    "colab": {
      "provenance": [],
      "authorship_tag": "ABX9TyP/JdnwJnYGJKQgKDwiS52P",
      "include_colab_link": true
    },
    "kernelspec": {
      "name": "python3",
      "display_name": "Python 3"
    },
    "language_info": {
      "name": "python"
    }
  },
  "cells": [
    {
      "cell_type": "markdown",
      "metadata": {
        "id": "view-in-github",
        "colab_type": "text"
      },
      "source": [
        "<a href=\"https://colab.research.google.com/github/Karin-1k/bisection-method/blob/main/bisection.ipynb\" target=\"_parent\"><img src=\"https://colab.research.google.com/assets/colab-badge.svg\" alt=\"Open In Colab\"/></a>"
      ]
    },
    {
      "cell_type": "code",
      "execution_count": 4,
      "metadata": {
        "colab": {
          "base_uri": "https://localhost:8080/"
        },
        "id": "vjo2CIS1uyJu",
        "outputId": "35e59750-0805-43dc-8098-21a9de769d76"
      },
      "outputs": [
        {
          "output_type": "stream",
          "name": "stdout",
          "text": [
            "First Guess: 2\n",
            "Second Guess: 4\n",
            "Tolerable Error: 1\n",
            "Given guess values do not bracket the root.\n",
            "Try Again with different guess values.\n"
          ]
        }
      ],
      "source": [
        "# nasandny hawkeshaka\n",
        "def f(x):\n",
        "    return x ** 3 - 3 * x - 1\n",
        "\n",
        "\n",
        "# hangawakany yasaka (Bisection method)\n",
        "def bisection(a, b, e):\n",
        "    print('\\n\\n*** BISECTION METHOD IMPLEMENTATION ***')\n",
        "    condition = True\n",
        "    while condition:\n",
        "        p = (a + b) / 2\n",
        "        print('p = %0.6f and f(p) = %0.6f' % (p, f(p)))\n",
        "\n",
        "\n",
        "        if f(a) * f(p) < 0:\n",
        "            b = p\n",
        "        else:\n",
        "            a = p\n",
        "\n",
        "\n",
        "        condition = abs(f(p)) > e\n",
        "\n",
        "\n",
        "    print('\\nRequired Root is : %0.8f' % p)\n",
        "\n",
        "\n",
        "\n",
        "\n",
        "a = float(input('First Guess: '))\n",
        "b = float(input('Second Guess: '))\n",
        "e = float(input('Tolerable Error: '))\n",
        "\n",
        "\n",
        "\n",
        "\n",
        "# dlnya bwnawa laway aya rooty haya yan na\n",
        "if f(a) * f(b) > 0.0:\n",
        "    print('Given guess values do not bracket the root.')\n",
        "    print('Try Again with different guess values.')\n",
        "else:\n",
        "    bisection(a, b, e)"
      ]
    }
  ]
}